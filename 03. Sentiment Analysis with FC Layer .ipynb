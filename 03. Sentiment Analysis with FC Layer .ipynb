{
 "cells": [
  {
   "cell_type": "code",
   "execution_count": 1,
   "metadata": {
    "collapsed": true
   },
   "outputs": [],
   "source": [
    "import pandas as pd, numpy as np"
   ]
  },
  {
   "cell_type": "code",
   "execution_count": 2,
   "metadata": {},
   "outputs": [
    {
     "data": {
      "text/html": [
       "<div>\n",
       "<style>\n",
       "    .dataframe thead tr:only-child th {\n",
       "        text-align: right;\n",
       "    }\n",
       "\n",
       "    .dataframe thead th {\n",
       "        text-align: left;\n",
       "    }\n",
       "\n",
       "    .dataframe tbody tr th {\n",
       "        vertical-align: top;\n",
       "    }\n",
       "</style>\n",
       "<table border=\"1\" class=\"dataframe\">\n",
       "  <thead>\n",
       "    <tr style=\"text-align: right;\">\n",
       "      <th></th>\n",
       "      <th>id</th>\n",
       "      <th>sentiment</th>\n",
       "      <th>review</th>\n",
       "    </tr>\n",
       "  </thead>\n",
       "  <tbody>\n",
       "    <tr>\n",
       "      <th>0</th>\n",
       "      <td>\"5814_8\"</td>\n",
       "      <td>1</td>\n",
       "      <td>\"With all this stuff going down at the moment ...</td>\n",
       "    </tr>\n",
       "    <tr>\n",
       "      <th>1</th>\n",
       "      <td>\"2381_9\"</td>\n",
       "      <td>1</td>\n",
       "      <td>\"\\\"The Classic War of the Worlds\\\" by Timothy ...</td>\n",
       "    </tr>\n",
       "    <tr>\n",
       "      <th>2</th>\n",
       "      <td>\"7759_3\"</td>\n",
       "      <td>0</td>\n",
       "      <td>\"The film starts with a manager (Nicholas Bell...</td>\n",
       "    </tr>\n",
       "    <tr>\n",
       "      <th>3</th>\n",
       "      <td>\"3630_4\"</td>\n",
       "      <td>0</td>\n",
       "      <td>\"It must be assumed that those who praised thi...</td>\n",
       "    </tr>\n",
       "    <tr>\n",
       "      <th>4</th>\n",
       "      <td>\"9495_8\"</td>\n",
       "      <td>1</td>\n",
       "      <td>\"Superbly trashy and wondrously unpretentious ...</td>\n",
       "    </tr>\n",
       "  </tbody>\n",
       "</table>\n",
       "</div>"
      ],
      "text/plain": [
       "         id  sentiment                                             review\n",
       "0  \"5814_8\"          1  \"With all this stuff going down at the moment ...\n",
       "1  \"2381_9\"          1  \"\\\"The Classic War of the Worlds\\\" by Timothy ...\n",
       "2  \"7759_3\"          0  \"The film starts with a manager (Nicholas Bell...\n",
       "3  \"3630_4\"          0  \"It must be assumed that those who praised thi...\n",
       "4  \"9495_8\"          1  \"Superbly trashy and wondrously unpretentious ..."
      ]
     },
     "execution_count": 2,
     "metadata": {},
     "output_type": "execute_result"
    }
   ],
   "source": [
    "df = pd.read_csv('labeledTrainData.tsv', delimiter = '\\t', quoting = 3)\n",
    "df.head()"
   ]
  },
  {
   "cell_type": "code",
   "execution_count": 3,
   "metadata": {},
   "outputs": [
    {
     "name": "stdout",
     "output_type": "stream",
     "text": [
      "(18750,) (6250,) (18750,) (6250,)\n"
     ]
    }
   ],
   "source": [
    "from sklearn.model_selection import train_test_split\n",
    "xtr, xts, ytr, yts = train_test_split(df['review'], df['sentiment'], test_size=0.25, random_state = 42)\n",
    "print(xtr.shape, xts.shape, ytr.shape, yts.shape)"
   ]
  },
  {
   "cell_type": "code",
   "execution_count": 4,
   "metadata": {},
   "outputs": [
    {
     "name": "stderr",
     "output_type": "stream",
     "text": [
      "C:\\Users\\namo venkatesha\\AppData\\Local\\conda\\conda\\envs\\tfdeeplearning\\lib\\importlib\\_bootstrap.py:222: RuntimeWarning: numpy.dtype size changed, may indicate binary incompatibility. Expected 96, got 88\n",
      "  return f(*args, **kwds)\n",
      "Using TensorFlow backend.\n"
     ]
    }
   ],
   "source": [
    "from keras.preprocessing.text import Tokenizer\n",
    "top_words = 5000 # Vocabulary Size\n",
    "tk = Tokenizer(num_words = top_words)\n",
    "tk.fit_on_texts(xtr.tolist())"
   ]
  },
  {
   "cell_type": "code",
   "execution_count": 5,
   "metadata": {
    "collapsed": true
   },
   "outputs": [],
   "source": [
    "# Preparin the train and test Data \n",
    "xtr = tk.texts_to_sequences(xtr.tolist())\n",
    "xts = tk.texts_to_sequences(xts.tolist())"
   ]
  },
  {
   "cell_type": "code",
   "execution_count": 6,
   "metadata": {},
   "outputs": [
    {
     "name": "stdout",
     "output_type": "stream",
     "text": [
      "252 431\n"
     ]
    }
   ],
   "source": [
    "# len vary in all the document \n",
    "print(len(xtr[2]), len(xtr[5]))"
   ]
  },
  {
   "cell_type": "code",
   "execution_count": 7,
   "metadata": {
    "collapsed": true
   },
   "outputs": [],
   "source": [
    "# Apply Padding \n",
    "from keras.preprocessing.sequence import pad_sequences"
   ]
  },
  {
   "cell_type": "code",
   "execution_count": 8,
   "metadata": {},
   "outputs": [
    {
     "name": "stdout",
     "output_type": "stream",
     "text": [
      "300 300\n",
      "300 300\n"
     ]
    }
   ],
   "source": [
    "pad_length = 300\n",
    "xtr = pad_sequences(xtr, maxlen=pad_length, padding = 'post')\n",
    "xts = pad_sequences(xts, maxlen=pad_length, padding = 'post')\n",
    "\n",
    "print(len(xtr[2]), len(xtr[5]))\n",
    "print(len(xts[2]), len(xts[5]))"
   ]
  },
  {
   "cell_type": "code",
   "execution_count": 10,
   "metadata": {
    "collapsed": true
   },
   "outputs": [],
   "source": [
    "# Build Model \n",
    "from keras.models import Sequential\n",
    "from keras.layers import Embedding, Dense, Flatten\n",
    "embedding_vector_length = 50"
   ]
  },
  {
   "cell_type": "code",
   "execution_count": 14,
   "metadata": {},
   "outputs": [
    {
     "name": "stdout",
     "output_type": "stream",
     "text": [
      "Train on 18750 samples, validate on 6250 samples\n",
      "Epoch 1/20\n",
      " - 26s - loss: 0.6905 - acc: 0.5317 - val_loss: 0.6730 - val_acc: 0.6213\n",
      "Epoch 2/20\n",
      " - 26s - loss: 0.5359 - acc: 0.7676 - val_loss: 0.4815 - val_acc: 0.7741\n",
      "Epoch 3/20\n",
      " - 25s - loss: 0.2361 - acc: 0.9071 - val_loss: 0.3545 - val_acc: 0.8525\n",
      "Epoch 4/20\n",
      " - 24s - loss: 0.0911 - acc: 0.9716 - val_loss: 0.4747 - val_acc: 0.8328\n",
      "Epoch 5/20\n",
      " - 24s - loss: 0.0390 - acc: 0.9890 - val_loss: 0.4866 - val_acc: 0.8533\n",
      "Epoch 6/20\n",
      " - 23s - loss: 0.0110 - acc: 0.9978 - val_loss: 0.5735 - val_acc: 0.8464\n",
      "Epoch 7/20\n",
      " - 25s - loss: 0.0041 - acc: 0.9996 - val_loss: 0.6281 - val_acc: 0.8494\n",
      "Epoch 8/20\n",
      " - 24s - loss: 0.0018 - acc: 0.9998 - val_loss: 0.6668 - val_acc: 0.8488\n",
      "Epoch 9/20\n",
      " - 24s - loss: 7.9270e-04 - acc: 0.9999 - val_loss: 0.7055 - val_acc: 0.8478\n",
      "Epoch 10/20\n",
      " - 23s - loss: 5.0377e-04 - acc: 0.9999 - val_loss: 0.7422 - val_acc: 0.8477\n",
      "Epoch 11/20\n",
      " - 25s - loss: 1.6172e-04 - acc: 1.0000 - val_loss: 0.7765 - val_acc: 0.8482\n",
      "Epoch 12/20\n",
      " - 28s - loss: 1.0776e-04 - acc: 1.0000 - val_loss: 0.8053 - val_acc: 0.8483\n",
      "Epoch 13/20\n",
      " - 24s - loss: 7.8359e-05 - acc: 1.0000 - val_loss: 0.8283 - val_acc: 0.8486\n",
      "Epoch 14/20\n",
      " - 27s - loss: 6.0390e-05 - acc: 1.0000 - val_loss: 0.8474 - val_acc: 0.8490\n",
      "Epoch 15/20\n",
      " - 24s - loss: 4.8537e-05 - acc: 1.0000 - val_loss: 0.8643 - val_acc: 0.8485\n",
      "Epoch 16/20\n",
      " - 24s - loss: 3.9924e-05 - acc: 1.0000 - val_loss: 0.8790 - val_acc: 0.8488\n",
      "Epoch 17/20\n",
      " - 24s - loss: 3.3512e-05 - acc: 1.0000 - val_loss: 0.8921 - val_acc: 0.8482\n",
      "Epoch 18/20\n",
      " - 26s - loss: 2.8657e-05 - acc: 1.0000 - val_loss: 0.9041 - val_acc: 0.8488\n",
      "Epoch 19/20\n",
      " - 26s - loss: 2.4768e-05 - acc: 1.0000 - val_loss: 0.9150 - val_acc: 0.8486\n",
      "Epoch 20/20\n",
      " - 36s - loss: 2.1699e-05 - acc: 1.0000 - val_loss: 0.9253 - val_acc: 0.8491\n"
     ]
    },
    {
     "data": {
      "text/plain": [
       "<keras.callbacks.History at 0xcedc311630>"
      ]
     },
     "execution_count": 14,
     "metadata": {},
     "output_type": "execute_result"
    }
   ],
   "source": [
    "model = Sequential()\n",
    "model.add(Embedding(top_words+1, embedding_vector_length, input_length=pad_length ))\n",
    "model.add(Flatten())\n",
    "model.add(Dense(200, activation = 'relu'))\n",
    "model.add(Dense(100, activation = 'relu'))\n",
    "model.add(Dense(60, activation = 'relu'))\n",
    "model.add(Dense(30, activation = 'relu'))\n",
    "model.add(Dense(1, activation = 'sigmoid'))\n",
    "model.compile(optimizer = 'adam', loss = 'binary_crossentropy', metrics = ['accuracy'])\n",
    "model.fit(xtr, ytr, batch_size = 1024, epochs = 20, verbose=2, validation_data = (xts, yts))"
   ]
  },
  {
   "cell_type": "code",
   "execution_count": null,
   "metadata": {
    "collapsed": true
   },
   "outputs": [],
   "source": []
  },
  {
   "cell_type": "code",
   "execution_count": 17,
   "metadata": {
    "collapsed": true
   },
   "outputs": [],
   "source": [
    "k = model.predict(xts[2:5])"
   ]
  },
  {
   "cell_type": "code",
   "execution_count": 18,
   "metadata": {
    "collapsed": true
   },
   "outputs": [],
   "source": [
    "k = np.round(k, 2)"
   ]
  },
  {
   "cell_type": "code",
   "execution_count": 19,
   "metadata": {},
   "outputs": [
    {
     "data": {
      "text/plain": [
       "array([[0.],\n",
       "       [1.],\n",
       "       [0.]], dtype=float32)"
      ]
     },
     "execution_count": 19,
     "metadata": {},
     "output_type": "execute_result"
    }
   ],
   "source": [
    "k"
   ]
  },
  {
   "cell_type": "code",
   "execution_count": 20,
   "metadata": {},
   "outputs": [
    {
     "data": {
      "text/plain": [
       "9668     0\n",
       "13640    1\n",
       "14018    0\n",
       "Name: sentiment, dtype: int64"
      ]
     },
     "execution_count": 20,
     "metadata": {},
     "output_type": "execute_result"
    }
   ],
   "source": [
    "yts[2:5]"
   ]
  },
  {
   "cell_type": "code",
   "execution_count": null,
   "metadata": {
    "collapsed": true
   },
   "outputs": [],
   "source": []
  },
  {
   "cell_type": "code",
   "execution_count": null,
   "metadata": {
    "collapsed": true
   },
   "outputs": [],
   "source": []
  },
  {
   "cell_type": "code",
   "execution_count": null,
   "metadata": {
    "collapsed": true
   },
   "outputs": [],
   "source": []
  }
 ],
 "metadata": {
  "kernelspec": {
   "display_name": "Python 3",
   "language": "python",
   "name": "python3"
  },
  "language_info": {
   "codemirror_mode": {
    "name": "ipython",
    "version": 3
   },
   "file_extension": ".py",
   "mimetype": "text/x-python",
   "name": "python",
   "nbconvert_exporter": "python",
   "pygments_lexer": "ipython3",
   "version": "3.5.4"
  }
 },
 "nbformat": 4,
 "nbformat_minor": 2
}
