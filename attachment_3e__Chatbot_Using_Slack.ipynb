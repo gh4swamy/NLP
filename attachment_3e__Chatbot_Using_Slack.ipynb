{
 "cells": [
  {
   "cell_type": "markdown",
   "metadata": {
    "colab_type": "text",
    "id": "zj54x11c5eNW"
   },
   "source": [
    "Import Prediction code"
   ]
  },
  {
   "cell_type": "code",
   "execution_count": 0,
   "metadata": {
    "colab": {
     "autoexec": {
      "startup": false,
      "wait_interval": 0
     }
    },
    "colab_type": "code",
    "collapsed": true,
    "id": "DKQ3ZkO55eNY"
   },
   "outputs": [],
   "source": [
    "import Seq2Seq_Prediction as model"
   ]
  },
  {
   "cell_type": "markdown",
   "metadata": {
    "colab_type": "text",
    "id": "2-Xekkt-5eNc"
   },
   "source": [
    "Build a Web Service using Flask"
   ]
  },
  {
   "cell_type": "code",
   "execution_count": 0,
   "metadata": {
    "colab": {
     "autoexec": {
      "startup": false,
      "wait_interval": 0
     }
    },
    "colab_type": "code",
    "collapsed": true,
    "id": "vnUPsjdc5eNd"
   },
   "outputs": [],
   "source": [
    "from flask import Flask, request"
   ]
  },
  {
   "cell_type": "markdown",
   "metadata": {
    "colab_type": "text",
    "id": "soPnt-eGjXx4"
   },
   "source": []
  },
  {
   "cell_type": "code",
   "execution_count": 0,
   "metadata": {
    "colab": {
     "autoexec": {
      "startup": false,
      "wait_interval": 0
     }
    },
    "colab_type": "code",
    "collapsed": true,
    "id": "gXA6ZU9d5eNg"
   },
   "outputs": [],
   "source": [
    "app = Flask(__name__)"
   ]
  },
  {
   "cell_type": "code",
   "execution_count": 0,
   "metadata": {
    "colab": {
     "autoexec": {
      "startup": false,
      "wait_interval": 0
     }
    },
    "colab_type": "code",
    "collapsed": true,
    "id": "zU5BfCQK5eNj"
   },
   "outputs": [],
   "source": [
    "@app.route('/', methods=['GET','POST'])\n",
    "def eng_hin_translate():    \n",
    "    #Extract user name\n",
    "    user_name = request.form['user_name']    \n",
    "    #Extract English text\n",
    "    text = request.form['text']\n",
    "    \n",
    "    try:\n",
    "        hin_translation = 'Here is the hindi translation of your input...\\n' + model.decode_sentence(text)\n",
    "    except:\n",
    "        hin_translation = 'Sorry, I did not understand your sentence.'\n",
    "    \n",
    "    #translate and return back the text\n",
    "    return 'Hi ' + user_name.title() + ', ' + hin_translation"
   ]
  },
  {
   "cell_type": "code",
   "execution_count": 0,
   "metadata": {
    "colab": {
     "autoexec": {
      "startup": false,
      "wait_interval": 0
     }
    },
    "colab_type": "code",
    "collapsed": true,
    "id": "VUV-WmhJ5eNm"
   },
   "outputs": [],
   "source": [
    "if __name__ == '__main__':\n",
    "    #Start http server locally on port 5000\n",
    "    app.run()"
   ]
  }
 ],
 "metadata": {
  "colab": {
   "default_view": {},
   "name": "3e. Chatbot_Using_Slack.ipynb",
   "provenance": [],
   "version": "0.3.2",
   "views": {}
  },
  "kernelspec": {
   "display_name": "Python 3",
   "language": "python",
   "name": "python3"
  },
  "language_info": {
   "codemirror_mode": {
    "name": "ipython",
    "version": 3
   },
   "file_extension": ".py",
   "mimetype": "text/x-python",
   "name": "python",
   "nbconvert_exporter": "python",
   "pygments_lexer": "ipython3",
   "version": "3.5.4"
  }
 },
 "nbformat": 4,
 "nbformat_minor": 1
}
