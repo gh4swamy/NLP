{
 "cells": [
  {
   "cell_type": "code",
   "execution_count": 2,
   "metadata": {},
   "outputs": [
    {
     "data": {
      "text/html": [
       "<div>\n",
       "<style scoped>\n",
       "    .dataframe tbody tr th:only-of-type {\n",
       "        vertical-align: middle;\n",
       "    }\n",
       "\n",
       "    .dataframe tbody tr th {\n",
       "        vertical-align: top;\n",
       "    }\n",
       "\n",
       "    .dataframe thead th {\n",
       "        text-align: right;\n",
       "    }\n",
       "</style>\n",
       "<table border=\"1\" class=\"dataframe\">\n",
       "  <thead>\n",
       "    <tr style=\"text-align: right;\">\n",
       "      <th></th>\n",
       "      <th>id</th>\n",
       "      <th>sentiment</th>\n",
       "      <th>review</th>\n",
       "    </tr>\n",
       "  </thead>\n",
       "  <tbody>\n",
       "    <tr>\n",
       "      <th>0</th>\n",
       "      <td>\"5814_8\"</td>\n",
       "      <td>1</td>\n",
       "      <td>\"With all this stuff going down at the moment ...</td>\n",
       "    </tr>\n",
       "    <tr>\n",
       "      <th>1</th>\n",
       "      <td>\"2381_9\"</td>\n",
       "      <td>1</td>\n",
       "      <td>\"\\\"The Classic War of the Worlds\\\" by Timothy ...</td>\n",
       "    </tr>\n",
       "    <tr>\n",
       "      <th>2</th>\n",
       "      <td>\"7759_3\"</td>\n",
       "      <td>0</td>\n",
       "      <td>\"The film starts with a manager (Nicholas Bell...</td>\n",
       "    </tr>\n",
       "    <tr>\n",
       "      <th>3</th>\n",
       "      <td>\"3630_4\"</td>\n",
       "      <td>0</td>\n",
       "      <td>\"It must be assumed that those who praised thi...</td>\n",
       "    </tr>\n",
       "    <tr>\n",
       "      <th>4</th>\n",
       "      <td>\"9495_8\"</td>\n",
       "      <td>1</td>\n",
       "      <td>\"Superbly trashy and wondrously unpretentious ...</td>\n",
       "    </tr>\n",
       "  </tbody>\n",
       "</table>\n",
       "</div>"
      ],
      "text/plain": [
       "         id  sentiment                                             review\n",
       "0  \"5814_8\"          1  \"With all this stuff going down at the moment ...\n",
       "1  \"2381_9\"          1  \"\\\"The Classic War of the Worlds\\\" by Timothy ...\n",
       "2  \"7759_3\"          0  \"The film starts with a manager (Nicholas Bell...\n",
       "3  \"3630_4\"          0  \"It must be assumed that those who praised thi...\n",
       "4  \"9495_8\"          1  \"Superbly trashy and wondrously unpretentious ..."
      ]
     },
     "execution_count": 2,
     "metadata": {},
     "output_type": "execute_result"
    }
   ],
   "source": [
    "import pandas as pd\n",
    "import keras\n",
    "df = pd.read_csv('labeledTrainData.tsv', quoting = 3, sep='\\t')\n",
    "df.head()"
   ]
  },
  {
   "cell_type": "code",
   "execution_count": 3,
   "metadata": {},
   "outputs": [
    {
     "name": "stdout",
     "output_type": "stream",
     "text": [
      "(18750,) (6250,) (18750,) (6250,)\n"
     ]
    }
   ],
   "source": [
    "from sklearn.model_selection import train_test_split\n",
    "xtr, xts, ytr, yts = train_test_split(df['review'], df['sentiment'], test_size=0.25, random_state=42)\n",
    "print(xtr.shape, xts.shape, ytr.shape, yts.shape)"
   ]
  },
  {
   "cell_type": "code",
   "execution_count": 4,
   "metadata": {},
   "outputs": [
    {
     "data": {
      "text/plain": [
       "(25000, 3)"
      ]
     },
     "execution_count": 4,
     "metadata": {},
     "output_type": "execute_result"
    }
   ],
   "source": [
    "df.shape"
   ]
  },
  {
   "cell_type": "code",
   "execution_count": 6,
   "metadata": {},
   "outputs": [
    {
     "name": "stdout",
     "output_type": "stream",
     "text": [
      "(18750, 5000) (6250, 5000)\n"
     ]
    }
   ],
   "source": [
    "from keras.preprocessing.text import Tokenizer\n",
    "top_words = 5000\n",
    "tk = Tokenizer(num_words = top_words)\n",
    "tk.fit_on_texts(xtr.tolist())\n",
    "\n",
    "xtr = tk.texts_to_matrix(xtr.tolist(),mode = 'tfidf')\n",
    "xts = tk.texts_to_matrix(xts.tolist(), mode =  'tfidf')\n",
    "\n",
    "print(xtr.shape, xts.shape)"
   ]
  },
  {
   "cell_type": "code",
   "execution_count": 8,
   "metadata": {},
   "outputs": [
    {
     "name": "stdout",
     "output_type": "stream",
     "text": [
      "_________________________________________________________________\n",
      "Layer (type)                 Output Shape              Param #   \n",
      "=================================================================\n",
      "dense_6 (Dense)              (None, 256)               1280256   \n",
      "_________________________________________________________________\n",
      "dense_7 (Dense)              (None, 128)               32896     \n",
      "_________________________________________________________________\n",
      "dropout_4 (Dropout)          (None, 128)               0         \n",
      "_________________________________________________________________\n",
      "dense_8 (Dense)              (None, 64)                8256      \n",
      "_________________________________________________________________\n",
      "dropout_5 (Dropout)          (None, 64)                0         \n",
      "_________________________________________________________________\n",
      "dense_9 (Dense)              (None, 32)                2080      \n",
      "_________________________________________________________________\n",
      "dropout_6 (Dropout)          (None, 32)                0         \n",
      "_________________________________________________________________\n",
      "dense_10 (Dense)             (None, 1)                 33        \n",
      "=================================================================\n",
      "Total params: 1,323,521\n",
      "Trainable params: 1,323,521\n",
      "Non-trainable params: 0\n",
      "_________________________________________________________________\n"
     ]
    }
   ],
   "source": [
    "from keras.models import Sequential\n",
    "from keras.layers import Dense, Dropout\n",
    "model = Sequential()\n",
    "model.add(Dense(units=256, activation = 'relu', input_shape=(5000,)))\n",
    "model.add(Dense(units=128, activation='relu'))\n",
    "model.add(Dropout(0.4))\n",
    "model.add(Dense(units=64, activation='relu'))\n",
    "model.add(Dropout(0.4))\n",
    "model.add(Dense(units=32, activation='relu'))\n",
    "model.add(Dropout(0.4))\n",
    "model.add(Dense(units=1, activation='sigmoid'))\n",
    "model.compile(optimizer = 'adam', loss='binary_crossentropy', metrics=['accuracy'])\n",
    "model.summary()\n"
   ]
  },
  {
   "cell_type": "code",
   "execution_count": 9,
   "metadata": {},
   "outputs": [
    {
     "name": "stdout",
     "output_type": "stream",
     "text": [
      "Train on 18750 samples, validate on 6250 samples\n",
      "Epoch 1/20\n",
      "18750/18750 [==============================] - 5s 251us/step - loss: 0.6162 - acc: 0.6468 - val_loss: 0.3280 - val_acc: 0.8718\n",
      "Epoch 2/20\n",
      "18750/18750 [==============================] - 3s 161us/step - loss: 0.3009 - acc: 0.8902 - val_loss: 0.2842 - val_acc: 0.8808\n",
      "Epoch 3/20\n",
      "18750/18750 [==============================] - 3s 162us/step - loss: 0.1737 - acc: 0.9449 - val_loss: 0.3229 - val_acc: 0.8816\n",
      "Epoch 4/20\n",
      "18750/18750 [==============================] - 3s 161us/step - loss: 0.0823 - acc: 0.9765 - val_loss: 0.4624 - val_acc: 0.8771\n",
      "Epoch 5/20\n",
      "18750/18750 [==============================] - 3s 160us/step - loss: 0.0344 - acc: 0.9907 - val_loss: 0.6219 - val_acc: 0.8773\n",
      "Epoch 6/20\n",
      "18750/18750 [==============================] - 3s 159us/step - loss: 0.0186 - acc: 0.9949 - val_loss: 0.7912 - val_acc: 0.8730\n",
      "Epoch 7/20\n",
      "18750/18750 [==============================] - 3s 160us/step - loss: 0.0135 - acc: 0.9963 - val_loss: 0.8650 - val_acc: 0.8742\n",
      "Epoch 8/20\n",
      "18750/18750 [==============================] - 3s 160us/step - loss: 0.0105 - acc: 0.9972 - val_loss: 0.9051 - val_acc: 0.8749\n",
      "Epoch 9/20\n",
      "18750/18750 [==============================] - 3s 160us/step - loss: 0.0127 - acc: 0.9970 - val_loss: 0.8641 - val_acc: 0.8725\n",
      "Epoch 10/20\n",
      "18750/18750 [==============================] - 3s 160us/step - loss: 0.0126 - acc: 0.9966 - val_loss: 0.8448 - val_acc: 0.8754\n",
      "Epoch 11/20\n",
      "18750/18750 [==============================] - 3s 161us/step - loss: 0.0078 - acc: 0.9979 - val_loss: 0.9133 - val_acc: 0.8707\n",
      "Epoch 12/20\n",
      "18750/18750 [==============================] - 3s 160us/step - loss: 0.0023 - acc: 0.9996 - val_loss: 1.0359 - val_acc: 0.8718\n",
      "Epoch 13/20\n",
      "18750/18750 [==============================] - 3s 162us/step - loss: 0.0016 - acc: 0.9995 - val_loss: 1.0908 - val_acc: 0.8726\n",
      "Epoch 14/20\n",
      "18750/18750 [==============================] - 3s 160us/step - loss: 0.0016 - acc: 0.9996 - val_loss: 1.1418 - val_acc: 0.8728\n",
      "Epoch 15/20\n",
      "18750/18750 [==============================] - 3s 161us/step - loss: 0.0014 - acc: 0.9997 - val_loss: 1.2605 - val_acc: 0.8664\n",
      "Epoch 16/20\n",
      "18750/18750 [==============================] - 3s 160us/step - loss: 0.0035 - acc: 0.9993 - val_loss: 1.2646 - val_acc: 0.8675\n",
      "Epoch 17/20\n",
      "18750/18750 [==============================] - 3s 160us/step - loss: 0.0083 - acc: 0.9981 - val_loss: 1.1913 - val_acc: 0.8670\n",
      "Epoch 18/20\n",
      "18750/18750 [==============================] - 3s 161us/step - loss: 0.0189 - acc: 0.9941 - val_loss: 0.8181 - val_acc: 0.8694\n",
      "Epoch 19/20\n",
      "18750/18750 [==============================] - 3s 160us/step - loss: 0.0099 - acc: 0.9969 - val_loss: 0.9040 - val_acc: 0.8723\n",
      "Epoch 20/20\n",
      "18750/18750 [==============================] - 3s 161us/step - loss: 0.0033 - acc: 0.9991 - val_loss: 1.0610 - val_acc: 0.8696\n"
     ]
    },
    {
     "data": {
      "text/plain": [
       "<keras.callbacks.History at 0x7f5a3f23de10>"
      ]
     },
     "execution_count": 9,
     "metadata": {},
     "output_type": "execute_result"
    }
   ],
   "source": [
    "model.fit(xtr, ytr, batch_size=500, epochs=20, validation_data = (xts, yts))"
   ]
  },
  {
   "cell_type": "code",
   "execution_count": 10,
   "metadata": {},
   "outputs": [],
   "source": [
    "import gensim"
   ]
  },
  {
   "cell_type": "code",
   "execution_count": 11,
   "metadata": {},
   "outputs": [],
   "source": [
    "from gensim.models import Word2Vec"
   ]
  },
  {
   "cell_type": "code",
   "execution_count": null,
   "metadata": {},
   "outputs": [],
   "source": []
  },
  {
   "cell_type": "code",
   "execution_count": null,
   "metadata": {},
   "outputs": [],
   "source": []
  }
 ],
 "metadata": {
  "kernelspec": {
   "display_name": "Python 3",
   "language": "python",
   "name": "python3"
  },
  "language_info": {
   "codemirror_mode": {
    "name": "ipython",
    "version": 3
   },
   "file_extension": ".py",
   "mimetype": "text/x-python",
   "name": "python",
   "nbconvert_exporter": "python",
   "pygments_lexer": "ipython3",
   "version": "3.6.5"
  }
 },
 "nbformat": 4,
 "nbformat_minor": 2
}
