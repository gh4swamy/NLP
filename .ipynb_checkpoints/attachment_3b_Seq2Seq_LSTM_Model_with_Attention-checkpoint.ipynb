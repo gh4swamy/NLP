{
 "cells": [
  {
   "cell_type": "code",
   "execution_count": 1,
   "metadata": {
    "colab": {
     "autoexec": {
      "startup": false,
      "wait_interval": 0
     }
    },
    "colab_type": "code",
    "collapsed": true,
    "id": "HL6SiZJT2oUb"
   },
   "outputs": [],
   "source": [
    "#Set Seed\n",
    "import numpy as np\n",
    "np.random.seed(42)"
   ]
  },
  {
   "cell_type": "markdown",
   "metadata": {
    "colab_type": "text",
    "id": "-lxNfeYx2oUg"
   },
   "source": [
    "## 1. Prepare data\n",
    "Data for this exercise can be downloaded from http://www.manythings.org/anki/"
   ]
  },
  {
   "cell_type": "markdown",
   "metadata": {
    "colab_type": "text",
    "id": "ih9pRZKjBb1e"
   },
   "source": [
    "### 1.1 Download and extract sentence pairs"
   ]
  },
  {
   "cell_type": "code",
   "execution_count": 4,
   "metadata": {
    "colab": {
     "autoexec": {
      "startup": false,
      "wait_interval": 0
     }
    },
    "colab_type": "code",
    "id": "v53t6LIx4GP6"
   },
   "outputs": [
    {
     "name": "stderr",
     "output_type": "stream",
     "text": [
      "'wget' is not recognized as an internal or external command,\n",
      "operable program or batch file.\n"
     ]
    }
   ],
   "source": [
    "!wget http://www.manythings.org/anki/hin-eng.zip --quiet"
   ]
  },
  {
   "cell_type": "code",
   "execution_count": 3,
   "metadata": {
    "colab": {
     "autoexec": {
      "startup": false,
      "wait_interval": 0
     }
    },
    "colab_type": "code",
    "collapsed": true,
    "id": "kBfzcXuX4wUI"
   },
   "outputs": [],
   "source": [
    "import zipfile\n",
    "import io"
   ]
  },
  {
   "cell_type": "code",
   "execution_count": 4,
   "metadata": {
    "colab": {
     "autoexec": {
      "startup": false,
      "wait_interval": 0
     }
    },
    "colab_type": "code",
    "id": "rLcBzQc940OL"
   },
   "outputs": [
    {
     "name": "stdout",
     "output_type": "stream",
     "text": [
      "Number of sentences:  2868\n"
     ]
    },
    {
     "data": {
      "text/plain": [
       "['I have a dog.\\tमेरे पास एक कुत्ता है।',\n",
       " 'I understand.\\tमैं समझता हूँ।',\n",
       " \"I'm a doctor.\\tमैं डॉक्टर हूँ।\",\n",
       " \"I'm starving!\\tमैं भूख से मरा जा रहा हूँ।\",\n",
       " 'It is a book.\\tयह किताब है।']"
      ]
     },
     "execution_count": 4,
     "metadata": {},
     "output_type": "execute_result"
    }
   ],
   "source": [
    "zf = zipfile.ZipFile('hin-eng.zip', 'r')\n",
    "\n",
    "#Read all Sentences\n",
    "data = ''\n",
    "with zf.open('hin.txt') as readfile:\n",
    "  for line in io.TextIOWrapper(readfile, 'utf-8'):\n",
    "    data += line\n",
    "\n",
    "#Split sentences\n",
    "data =  data.split('\\n')\n",
    "\n",
    "#lets review the data\n",
    "print('Number of sentences: ', len(data))\n",
    "data[100:105]"
   ]
  },
  {
   "cell_type": "markdown",
   "metadata": {
    "colab_type": "text",
    "id": "PF5ZMy-dn1jH"
   },
   "source": [
    "### 1.2 Separate out Encoder and Decoder input data"
   ]
  },
  {
   "cell_type": "code",
   "execution_count": 5,
   "metadata": {
    "colab": {
     "autoexec": {
      "startup": false,
      "wait_interval": 0
     }
    },
    "colab_type": "code",
    "collapsed": true,
    "id": "RN3q2mm42oUp"
   },
   "outputs": [],
   "source": [
    "encoder_text = []\n",
    "decoder_text = []\n",
    "\n",
    "for line in data:\n",
    "    try:\n",
    "        in_txt, out_txt = line.split('\\t')\n",
    "        encoder_text.append(in_txt)\n",
    "        \n",
    "        # Add tab '<start>' as 'start sequence in target\n",
    "        # And '<end>' as End\n",
    "        decoder_text.append('<start> ' + out_txt + ' <end>')\n",
    "    except:\n",
    "        pass #ignore data which goes into error"
   ]
  },
  {
   "cell_type": "code",
   "execution_count": 6,
   "metadata": {
    "colab": {
     "autoexec": {
      "startup": false,
      "wait_interval": 0
     }
    },
    "colab_type": "code",
    "id": "V6TdW_s22oUs"
   },
   "outputs": [
    {
     "data": {
      "text/plain": [
       "['I have a dog.',\n",
       " 'I understand.',\n",
       " \"I'm a doctor.\",\n",
       " \"I'm starving!\",\n",
       " 'It is a book.']"
      ]
     },
     "execution_count": 6,
     "metadata": {},
     "output_type": "execute_result"
    }
   ],
   "source": [
    "encoder_text[100:105]"
   ]
  },
  {
   "cell_type": "code",
   "execution_count": 7,
   "metadata": {
    "colab": {
     "autoexec": {
      "startup": false,
      "wait_interval": 0
     }
    },
    "colab_type": "code",
    "id": "rfWDMX2q2oUu"
   },
   "outputs": [
    {
     "data": {
      "text/plain": [
       "['<start> मेरे पास एक कुत्ता है। <end>',\n",
       " '<start> मैं समझता हूँ। <end>',\n",
       " '<start> मैं डॉक्टर हूँ। <end>',\n",
       " '<start> मैं भूख से मरा जा रहा हूँ। <end>',\n",
       " '<start> यह किताब है। <end>']"
      ]
     },
     "execution_count": 7,
     "metadata": {},
     "output_type": "execute_result"
    }
   ],
   "source": [
    "decoder_text[100:105]"
   ]
  },
  {
   "cell_type": "markdown",
   "metadata": {
    "colab_type": "text",
    "id": "T_INkpPE2oU2"
   },
   "source": [
    "### 1.3 Build Sequences for Encoder and Decoder Input"
   ]
  },
  {
   "cell_type": "code",
   "execution_count": 8,
   "metadata": {
    "colab": {
     "autoexec": {
      "startup": false,
      "wait_interval": 0
     }
    },
    "colab_type": "code",
    "id": "AzgIJwqZ2oU3"
   },
   "outputs": [
    {
     "name": "stderr",
     "output_type": "stream",
     "text": [
      "Using TensorFlow backend.\n"
     ]
    }
   ],
   "source": [
    "from keras.preprocessing.text import Tokenizer"
   ]
  },
  {
   "cell_type": "markdown",
   "metadata": {
    "colab_type": "text",
    "id": "FGUFyI452oU5"
   },
   "source": [
    "Encoder tokenizer"
   ]
  },
  {
   "cell_type": "code",
   "execution_count": 9,
   "metadata": {
    "colab": {
     "autoexec": {
      "startup": false,
      "wait_interval": 0
     }
    },
    "colab_type": "code",
    "id": "kzg86E_h2oU5"
   },
   "outputs": [
    {
     "name": "stdout",
     "output_type": "stream",
     "text": [
      "Max words in input sentence:  22\n",
      "Input vocablury:  2402\n"
     ]
    }
   ],
   "source": [
    "encoder_t = Tokenizer()\n",
    "encoder_t.fit_on_texts(encoder_text)\n",
    "encoder_seq = encoder_t.texts_to_sequences(encoder_text)\n",
    "max_encoder_seq_length = max([len(txt) for txt in encoder_seq])\n",
    "encoder_vocab_size = len(encoder_t.word_index)\n",
    "print('Max words in input sentence: ', max_encoder_seq_length)\n",
    "print('Input vocablury: ', encoder_vocab_size)"
   ]
  },
  {
   "cell_type": "code",
   "execution_count": 10,
   "metadata": {
    "colab": {
     "autoexec": {
      "startup": false,
      "wait_interval": 0
     }
    },
    "colab_type": "code",
    "id": "n5VEgt2jotqj"
   },
   "outputs": [
    {
     "data": {
      "text/plain": [
       "['I have a dog.',\n",
       " 'I understand.',\n",
       " \"I'm a doctor.\",\n",
       " \"I'm starving!\",\n",
       " 'It is a book.']"
      ]
     },
     "execution_count": 10,
     "metadata": {},
     "output_type": "execute_result"
    }
   ],
   "source": [
    "encoder_text[100:105]"
   ]
  },
  {
   "cell_type": "code",
   "execution_count": 11,
   "metadata": {
    "colab": {
     "autoexec": {
      "startup": false,
      "wait_interval": 0
     }
    },
    "colab_type": "code",
    "id": "AM4-L-IOSncW"
   },
   "outputs": [
    {
     "data": {
      "text/plain": [
       "[[2, 12, 6, 130], [2, 213], [38, 6, 153], [38, 1289], [11, 5, 6, 70]]"
      ]
     },
     "execution_count": 11,
     "metadata": {},
     "output_type": "execute_result"
    }
   ],
   "source": [
    "encoder_seq[100:105]"
   ]
  },
  {
   "cell_type": "markdown",
   "metadata": {
    "colab_type": "text",
    "id": "SxRm7g5_2oVO"
   },
   "source": [
    "Decoder tokenizer"
   ]
  },
  {
   "cell_type": "code",
   "execution_count": 12,
   "metadata": {
    "colab": {
     "autoexec": {
      "startup": false,
      "wait_interval": 0
     }
    },
    "colab_type": "code",
    "id": "qX3ALB6d2oVP"
   },
   "outputs": [
    {
     "name": "stdout",
     "output_type": "stream",
     "text": [
      "Max words in output sentence:  27\n",
      "Output vocablury:  3009\n"
     ]
    }
   ],
   "source": [
    "decoder_t = Tokenizer(filters='!\"#$%&()*+,-./:;=?@[\\\\]^_`{|}~\\t\\n')\n",
    "decoder_t.fit_on_texts(decoder_text)\n",
    "decoder_seq = decoder_t.texts_to_sequences(decoder_text)\n",
    "max_decoder_seq_length = max([len(txt) for txt in decoder_seq])\n",
    "decoder_vocab_size = len(decoder_t.word_index)\n",
    "\n",
    "print('Max words in output sentence: ', max_decoder_seq_length)\n",
    "print('Output vocablury: ', decoder_vocab_size)"
   ]
  },
  {
   "cell_type": "code",
   "execution_count": 13,
   "metadata": {
    "colab": {
     "autoexec": {
      "startup": false,
      "wait_interval": 0
     }
    },
    "colab_type": "code",
    "id": "NaywgIDQTOkz"
   },
   "outputs": [
    {
     "data": {
      "text/plain": [
       "['<start> मेरे पास एक कुत्ता है। <end>',\n",
       " '<start> मैं समझता हूँ। <end>',\n",
       " '<start> मैं डॉक्टर हूँ। <end>',\n",
       " '<start> मैं भूख से मरा जा रहा हूँ। <end>',\n",
       " '<start> यह किताब है। <end>']"
      ]
     },
     "execution_count": 13,
     "metadata": {},
     "output_type": "execute_result"
    }
   ],
   "source": [
    "decoder_text[100:105]"
   ]
  },
  {
   "cell_type": "code",
   "execution_count": 14,
   "metadata": {
    "colab": {
     "autoexec": {
      "startup": false,
      "wait_interval": 0
     }
    },
    "colab_type": "code",
    "id": "CRnT4mPaTSOH"
   },
   "outputs": [
    {
     "data": {
      "text/plain": [
       "[[1, 28, 40, 21, 208, 3, 2],\n",
       " [1, 6, 778, 19, 2],\n",
       " [1, 6, 186, 19, 2],\n",
       " [1, 6, 359, 8, 1499, 120, 38, 19, 2],\n",
       " [1, 25, 78, 3, 2]]"
      ]
     },
     "execution_count": 14,
     "metadata": {},
     "output_type": "execute_result"
    }
   ],
   "source": [
    "decoder_seq[100:105]"
   ]
  },
  {
   "cell_type": "markdown",
   "metadata": {
    "colab_type": "text",
    "id": "OOkCZLP02oVp"
   },
   "source": [
    "### 1.4 Padding Sequences"
   ]
  },
  {
   "cell_type": "code",
   "execution_count": 16,
   "metadata": {
    "colab": {
     "autoexec": {
      "startup": false,
      "wait_interval": 0
     }
    },
    "colab_type": "code",
    "id": "7sK7hzn62oVq"
   },
   "outputs": [
    {
     "name": "stdout",
     "output_type": "stream",
     "text": [
      "Encoder input shape:  (2867, 22)\n",
      "Decoder input shape:  (2867, 27)\n"
     ]
    }
   ],
   "source": [
    "from keras.preprocessing.sequence import pad_sequences\n",
    "\n",
    "encoder_input_data = pad_sequences(encoder_seq, maxlen=max_encoder_seq_length, padding='pre')\n",
    "decoder_input_data = pad_sequences(decoder_seq, maxlen=max_decoder_seq_length, padding='post')\n",
    "\n",
    "print('Encoder input shape: ', encoder_input_data.shape)\n",
    "print('Decoder input shape: ', decoder_input_data.shape)"
   ]
  },
  {
   "cell_type": "markdown",
   "metadata": {
    "colab_type": "text",
    "id": "W0hWqo3K2oV8"
   },
   "source": [
    "Integer to Word converter for Decoder data"
   ]
  },
  {
   "cell_type": "code",
   "execution_count": 17,
   "metadata": {
    "colab": {
     "autoexec": {
      "startup": false,
      "wait_interval": 0
     }
    },
    "colab_type": "code",
    "id": "YroNA85k2oV9"
   },
   "outputs": [
    {
     "data": {
      "text/plain": [
       "'की'"
      ]
     },
     "execution_count": 17,
     "metadata": {},
     "output_type": "execute_result"
    }
   ],
   "source": [
    "#This will be used to convert output back to word\n",
    "int_to_word_decoder = dict((i,c) for c, i in decoder_t.word_index.items())\n",
    "int_to_word_decoder[15]"
   ]
  },
  {
   "cell_type": "markdown",
   "metadata": {
    "colab_type": "text",
    "id": "cNqNaJ4t2oWB"
   },
   "source": [
    "### 1.5 Building Decoder Output data"
   ]
  },
  {
   "cell_type": "code",
   "execution_count": 19,
   "metadata": {
    "colab": {
     "autoexec": {
      "startup": false,
      "wait_interval": 0
     }
    },
    "colab_type": "code",
    "id": "E8Jojsni2oWC"
   },
   "outputs": [
    {
     "data": {
      "text/plain": [
       "array([   1, 1466,    2,    0,    0,    0,    0,    0,    0,    0,    0,\n",
       "          0,    0,    0,    0,    0,    0,    0,    0,    0,    0,    0,\n",
       "          0,    0,    0,    0,    0])"
      ]
     },
     "execution_count": 19,
     "metadata": {},
     "output_type": "execute_result"
    }
   ],
   "source": [
    "decoder_target_data = np.zeros((decoder_input_data.shape[0], decoder_input_data.shape[1]))\n",
    "\n",
    "for i in range(decoder_input_data.shape[0]):\n",
    "    for j in range(1,decoder_input_data.shape[1]):\n",
    "        decoder_target_data[i][j-1] = decoder_input_data[i][j]   \n",
    "\n",
    "decoder_input_data[0]"
   ]
  },
  {
   "cell_type": "markdown",
   "metadata": {
    "colab_type": "text",
    "id": "WkfOv-Jg2oWP"
   },
   "source": [
    "Convert target data in one hot vector"
   ]
  },
  {
   "cell_type": "code",
   "execution_count": 20,
   "metadata": {
    "colab": {
     "autoexec": {
      "startup": false,
      "wait_interval": 0
     }
    },
    "colab_type": "code",
    "id": "YLfOe0k52oWQ"
   },
   "outputs": [
    {
     "data": {
      "text/plain": [
       "(2867, 27, 3010)"
      ]
     },
     "execution_count": 20,
     "metadata": {},
     "output_type": "execute_result"
    }
   ],
   "source": [
    "from keras.utils import  to_categorical\n",
    "\n",
    "#Initialize decoder output matrix to all zeros\n",
    "decoder_target_one_hot = np.zeros((decoder_input_data.shape[0], \n",
    "                                   decoder_input_data.shape[1],\n",
    "                                   len(decoder_t.word_index)+1))\n",
    "\n",
    "#Populate the output matrix by shifting decoder input by 1 step\n",
    "for i in range(decoder_target_data.shape[0]):\n",
    "    for j in range(decoder_target_data.shape[1]):\n",
    "        decoder_target_one_hot[i][j] = to_categorical(decoder_target_data[i][j],\n",
    "                                                      num_classes=len(\n",
    "                                                          decoder_t.word_index)+1) \n",
    "        \n",
    "#Decoder Output size\n",
    "decoder_target_one_hot.shape"
   ]
  },
  {
   "cell_type": "markdown",
   "metadata": {
    "colab_type": "text",
    "id": "OEaq66iJ2oWX"
   },
   "source": [
    "## 2. Building the Training Model"
   ]
  },
  {
   "cell_type": "code",
   "execution_count": 21,
   "metadata": {
    "colab": {
     "autoexec": {
      "startup": false,
      "wait_interval": 0
     }
    },
    "colab_type": "code",
    "collapsed": true,
    "id": "OevwCnTV2oWY"
   },
   "outputs": [],
   "source": [
    "from keras.layers import Input, LSTM, Dense, Embedding\n",
    "from keras.layers import concatenate, dot, Permute, Average\n",
    "from keras.layers import Multiply, Activation, Bidirectional\n",
    "from keras.callbacks import ModelCheckpoint"
   ]
  },
  {
   "cell_type": "markdown",
   "metadata": {
    "colab_type": "text",
    "id": "nEKx9XQI2oWb"
   },
   "source": [
    "Define config parameters"
   ]
  },
  {
   "cell_type": "code",
   "execution_count": 22,
   "metadata": {
    "colab": {
     "autoexec": {
      "startup": false,
      "wait_interval": 0
     }
    },
    "colab_type": "code",
    "collapsed": true,
    "id": "SfHikNyh2oWc"
   },
   "outputs": [],
   "source": [
    "encoder_embedding_size = 50\n",
    "decoder_embedding_size = 50\n",
    "rnn_units = 256"
   ]
  },
  {
   "cell_type": "markdown",
   "metadata": {
    "colab_type": "text",
    "id": "ktTTJ3t_2oWg"
   },
   "source": [
    "### 2.1 Build Encoder layers"
   ]
  },
  {
   "cell_type": "code",
   "execution_count": 0,
   "metadata": {
    "colab": {
     "autoexec": {
      "startup": false,
      "wait_interval": 0
     }
    },
    "colab_type": "code",
    "collapsed": true,
    "id": "Rx5XaerO2oWm"
   },
   "outputs": [],
   "source": [
    "#Encoder Input\n",
    "encoder_inputs = Input(shape=(None,))\n",
    "\n",
    "#Embedding layer \n",
    "encoder_embedding = Embedding(encoder_vocab_size+1, encoder_embedding_size)\n",
    "\n",
    "#Embeding layer output\n",
    "encoder_embedding_output = (encoder_embedding(encoder_inputs))\n",
    "\n",
    "#Define LSTM layer for encoder\n",
    "#Get all hidden states (needed for attention) and last h and c\n",
    "encoder_lstm = Bidirectional(LSTM(rnn_units,return_state=True,\n",
    "                                 return_sequences=True))\n",
    "\n",
    "#Bidirectional encoder will return 5 tensors\n",
    "encoder_all_states, forward_h, forward_c, backward_h, backward_c = encoder_lstm(encoder_embedding_output)\n",
    "#state_h = Average()([forward_h,backward_h])\n",
    "#state_c = Average()([forward_c,backward_c])\n",
    "\n",
    "#Create a list for hidden and cell state\n",
    "encoder_states = [forward_h, forward_c, backward_h, backward_c ]"
   ]
  },
  {
   "cell_type": "markdown",
   "metadata": {
    "colab_type": "text",
    "id": "rxxLV14h2oWy"
   },
   "source": [
    "### 2.2 Build Decoder layers"
   ]
  },
  {
   "cell_type": "code",
   "execution_count": 0,
   "metadata": {
    "colab": {
     "autoexec": {
      "startup": false,
      "wait_interval": 0
     }
    },
    "colab_type": "code",
    "collapsed": true,
    "id": "OSqja3Z72oWy"
   },
   "outputs": [],
   "source": [
    "#Decoder input\n",
    "decoder_inputs = Input(shape=(None,))\n",
    "\n",
    "#Embedding Layer\n",
    "decoder_embedding = Embedding(decoder_vocab_size + 1, decoder_embedding_size)\n",
    "decoder_embedding_output = decoder_embedding(decoder_inputs)\n",
    "\n",
    "#Decoder LSTM\n",
    "#Get all hidden states and last h, c\n",
    "decoder_rnn = Bidirectional(LSTM(rnn_units, return_sequences=True, return_state=True))\n",
    "decoder_all_states,_,_,_,_ = decoder_rnn(decoder_embedding_output, initial_state=encoder_states)"
   ]
  },
  {
   "cell_type": "markdown",
   "metadata": {
    "colab_type": "text",
    "id": "pv6tcL1or2f5"
   },
   "source": [
    "Add code for the Attention Layer - start with alignment matrix"
   ]
  },
  {
   "cell_type": "code",
   "execution_count": 0,
   "metadata": {
    "colab": {
     "autoexec": {
      "startup": false,
      "wait_interval": 0
     }
    },
    "colab_type": "code",
    "collapsed": true,
    "id": "kaNPZDmOr1xM"
   },
   "outputs": [],
   "source": [
    "#1. Dot Product between Decoder_all_states and encoder_all_hidden_states\n",
    "#2. Apply softmax to get Alignment matrix\n",
    "\n",
    "#Dimensions details\n",
    "#decoder_all_states = batch_size x max_decoder_length x rnn_units\n",
    "#encoder_all_states = batch_size x max_encoder_length x rnn_units\n",
    "#score = batch_size x max_decoder_length x max_encoder_length\n",
    "#alignment matrix = batch_size x max_decoder_length x max_encoder_length\n",
    "\n",
    "score = dot([decoder_all_states, encoder_all_states], axes=2)\n",
    "alignment_matrix = Activation('softmax')(score)\n",
    "\n",
    "#Try general and concat approaches to alignment matrix"
   ]
  },
  {
   "cell_type": "markdown",
   "metadata": {
    "colab_type": "text",
    "id": "Meh1C1DHr1Oe"
   },
   "source": [
    "Build Context Vector"
   ]
  },
  {
   "cell_type": "code",
   "execution_count": 0,
   "metadata": {
    "colab": {
     "autoexec": {
      "startup": false,
      "wait_interval": 0
     }
    },
    "colab_type": "code",
    "collapsed": true,
    "id": "OyBRKUTsr0e9"
   },
   "outputs": [],
   "source": [
    "#Weighted sum of multiplication of Alignment matrix and encoder states\n",
    "# Dimension of context_vector =  batch_size x max_decoder_length x rnn_units\n",
    "context_vector = dot([alignment_matrix, encoder_all_states], axes=[2,1])\n"
   ]
  },
  {
   "cell_type": "markdown",
   "metadata": {
    "colab_type": "text",
    "id": "ADZ_TKH-25j4"
   },
   "source": [
    "Build Attention Vector"
   ]
  },
  {
   "cell_type": "code",
   "execution_count": 0,
   "metadata": {
    "colab": {
     "autoexec": {
      "startup": false,
      "wait_interval": 0
     }
    },
    "colab_type": "code",
    "collapsed": true,
    "id": "8PPPVFp828r3"
   },
   "outputs": [],
   "source": [
    "#Concatenate context vector and decoder_all_states\n",
    "#context_decoder_hidden = batch_size x max_decoder_length x 2*rnn_units\n",
    "#attention_vector = batch_size x max_decoder_length x 128\n",
    "\n",
    "context_decoder_hidden = concatenate([context_vector, decoder_all_states])\n",
    "attention_dense_layer = Dense(128, use_bias=False, \n",
    "                         activation='tanh')\n",
    "attention_vector = attention_dense_layer(context_decoder_hidden)"
   ]
  },
  {
   "cell_type": "code",
   "execution_count": 0,
   "metadata": {
    "colab": {
     "autoexec": {
      "startup": false,
      "wait_interval": 0
     }
    },
    "colab_type": "code",
    "collapsed": true,
    "id": "tyKPLlNt2oW6"
   },
   "outputs": [],
   "source": [
    "#Output layer\n",
    "decoder_dense = Dense(decoder_vocab_size + 1, activation='softmax')"
   ]
  },
  {
   "cell_type": "code",
   "execution_count": 0,
   "metadata": {
    "colab": {
     "autoexec": {
      "startup": false,
      "wait_interval": 0
     }
    },
    "colab_type": "code",
    "collapsed": true,
    "id": "6nFd03t02oW8"
   },
   "outputs": [],
   "source": [
    "#With attention input will be attention_vector and not decoder_all_states\n",
    "#decoder_outputs = decoder_dense(decoder_all_states)\n",
    "decoder_outputs = decoder_dense(attention_vector)"
   ]
  },
  {
   "cell_type": "markdown",
   "metadata": {
    "colab_type": "text",
    "id": "4irUZFFJ2oW-"
   },
   "source": [
    "### 2.3 Build Model using both Encoder and Decoder layers"
   ]
  },
  {
   "cell_type": "code",
   "execution_count": 0,
   "metadata": {
    "colab": {
     "autoexec": {
      "startup": false,
      "wait_interval": 0
     }
    },
    "colab_type": "code",
    "collapsed": true,
    "id": "35Wan_LF2oW-"
   },
   "outputs": [],
   "source": [
    "from tensorflow.python.keras.models import Model"
   ]
  },
  {
   "cell_type": "code",
   "execution_count": 0,
   "metadata": {
    "colab": {
     "autoexec": {
      "startup": false,
      "wait_interval": 0
     }
    },
    "colab_type": "code",
    "collapsed": true,
    "id": "8onZYQE-2oXC"
   },
   "outputs": [],
   "source": [
    "model = Model([encoder_inputs, decoder_inputs], decoder_outputs)"
   ]
  },
  {
   "cell_type": "code",
   "execution_count": 0,
   "metadata": {
    "colab": {
     "autoexec": {
      "startup": false,
      "wait_interval": 0
     }
    },
    "colab_type": "code",
    "collapsed": true,
    "id": "owbIRm0r2oXJ"
   },
   "outputs": [],
   "source": [
    "model.compile(optimizer='adam', loss='categorical_crossentropy')"
   ]
  },
  {
   "cell_type": "code",
   "execution_count": 0,
   "metadata": {
    "colab": {
     "autoexec": {
      "startup": false,
      "wait_interval": 0
     }
    },
    "colab_type": "code",
    "collapsed": true,
    "id": "wDgLXB3wiT7l"
   },
   "outputs": [],
   "source": [
    "model.summary()"
   ]
  },
  {
   "cell_type": "markdown",
   "metadata": {
    "colab_type": "text",
    "id": "mlutxik62oXL"
   },
   "source": [
    "## 3. Train the model"
   ]
  },
  {
   "cell_type": "code",
   "execution_count": 0,
   "metadata": {
    "colab": {
     "autoexec": {
      "startup": false,
      "wait_interval": 0
     }
    },
    "colab_type": "code",
    "collapsed": true,
    "id": "rqqgnzvC2oXM"
   },
   "outputs": [],
   "source": [
    "model.fit([encoder_input_data, decoder_input_data], decoder_target_one_hot,\n",
    "          batch_size=32,\n",
    "          epochs=100,\n",
    "          validation_split=0.2)"
   ]
  },
  {
   "cell_type": "code",
   "execution_count": 0,
   "metadata": {
    "colab": {
     "autoexec": {
      "startup": false,
      "wait_interval": 0
     }
    },
    "colab_type": "code",
    "collapsed": true,
    "id": "Q0E7j5Cf2gaS"
   },
   "outputs": [],
   "source": [
    "model.save('drive/AI-ML/models/seq2seq_enghin_trg_bi_attention.h5')"
   ]
  },
  {
   "cell_type": "markdown",
   "metadata": {
    "colab_type": "text",
    "id": "diNsT2872oXO"
   },
   "source": [
    "## 4. Building Model for Prediction"
   ]
  },
  {
   "cell_type": "markdown",
   "metadata": {
    "colab_type": "text",
    "id": "i1s0wEEW2oXP"
   },
   "source": [
    "### 4.1 Build the Encoder Model to predict Encoder States"
   ]
  },
  {
   "cell_type": "code",
   "execution_count": 0,
   "metadata": {
    "colab": {
     "autoexec": {
      "startup": false,
      "wait_interval": 0
     }
    },
    "colab_type": "code",
    "collapsed": true,
    "id": "zG_a4adu2oXQ"
   },
   "outputs": [],
   "source": [
    "#Get both last c and h as well as encoder_all_states for Attention\n",
    "encoder_model = Model(inputs=encoder_inputs, outputs=[encoder_all_states] + \n",
    "                      encoder_states)"
   ]
  },
  {
   "cell_type": "markdown",
   "metadata": {
    "colab_type": "text",
    "id": "H-9JR6I72oXR"
   },
   "source": [
    "### 4.2 Build the Decoder Model \n",
    "\n",
    "1. Define Input for both 'h' state and 'c' state initialization\n",
    "2. Get RNN outputs along with h and c state\n",
    "3. Define Decoder Output\n",
    "4. Build Model"
   ]
  },
  {
   "cell_type": "code",
   "execution_count": 0,
   "metadata": {
    "colab": {
     "autoexec": {
      "startup": false,
      "wait_interval": 0
     }
    },
    "colab_type": "code",
    "collapsed": true,
    "id": "OwW75R1m2oXR"
   },
   "outputs": [],
   "source": [
    "#State h and c from Encoder\n",
    "initial_fwd_h = Input(shape=(rnn_units,))\n",
    "initial_fwd_c = Input(shape=(rnn_units,))\n",
    "initial_bkwd_h = Input(shape=(rnn_units,))\n",
    "initial_bkwd_c = Input(shape=(rnn_units,))\n",
    "#Build list of state inputs \n",
    "decoder_states_inputs = [initial_fwd_h, initial_fwd_c,\n",
    "                        initial_bkwd_h, initial_bkwd_c]\n",
    "\n",
    "#Input for Attention layer\n",
    "encoder_outputs = Input(shape=(max_encoder_seq_length, 2*rnn_units,))\n",
    "\n",
    "#Get RNN outputs and state(s) using trained layers\n",
    "x = decoder_embedding(decoder_inputs)\n",
    "rnn_outputs, f_state_h, f_state_c, b_state_h, b_state_c = decoder_rnn(x,\n",
    "                                                                      initial_state=decoder_states_inputs)\n",
    "\n",
    "#Why do we need this?\n",
    "decoder_states = [f_state_h, f_state_c, b_state_h, b_state_c]"
   ]
  },
  {
   "cell_type": "markdown",
   "metadata": {
    "colab_type": "text",
    "id": "0K9vuH3gIUlL"
   },
   "source": [
    "Build Attention Layer"
   ]
  },
  {
   "cell_type": "code",
   "execution_count": 0,
   "metadata": {
    "colab": {
     "autoexec": {
      "startup": false,
      "wait_interval": 0
     }
    },
    "colab_type": "code",
    "collapsed": true,
    "id": "l8UIHU5GIUCA"
   },
   "outputs": [],
   "source": [
    "p_score = dot([rnn_outputs, encoder_outputs], axes=2)\n",
    "p_alignment_matrix = Activation('softmax')(p_score)\n",
    "p_context_vector = dot([p_alignment_matrix, encoder_outputs], axes=[2,1])\n",
    "p_context_decoder_hidden = concatenate([p_context_vector, rnn_outputs])\n",
    "p_attention_vector = attention_dense_layer(p_context_decoder_hidden)\n"
   ]
  },
  {
   "cell_type": "markdown",
   "metadata": {
    "colab_type": "text",
    "id": "DlSOV9tU2oXd"
   },
   "source": [
    "get Decoder output"
   ]
  },
  {
   "cell_type": "code",
   "execution_count": 0,
   "metadata": {
    "colab": {
     "autoexec": {
      "startup": false,
      "wait_interval": 0
     }
    },
    "colab_type": "code",
    "collapsed": true,
    "id": "piCi4D3I2oXe"
   },
   "outputs": [],
   "source": [
    "#decoder_outputs = decoder_dense(rnn_outputs)\n",
    "decoder_outputs = decoder_dense(p_attention_vector)"
   ]
  },
  {
   "cell_type": "markdown",
   "metadata": {
    "colab_type": "text",
    "id": "UvP7HOzL2oXf"
   },
   "source": [
    "Build Decoder Model"
   ]
  },
  {
   "cell_type": "code",
   "execution_count": 0,
   "metadata": {
    "colab": {
     "autoexec": {
      "startup": false,
      "wait_interval": 0
     }
    },
    "colab_type": "code",
    "collapsed": true,
    "id": "_Kbc3jAe2oXg"
   },
   "outputs": [],
   "source": [
    "decoder_model = Model([decoder_inputs] + decoder_states_inputs + [encoder_outputs],  #Model inputs\n",
    "                     [decoder_outputs] + decoder_states + [p_alignment_matrix])"
   ]
  },
  {
   "cell_type": "markdown",
   "metadata": {
    "colab_type": "text",
    "id": "wJyeIiyN2oXj"
   },
   "source": [
    "## 5.0 Predicting Output"
   ]
  },
  {
   "cell_type": "markdown",
   "metadata": {
    "colab_type": "text",
    "id": "CQKbrF9b2oXj"
   },
   "source": [
    "Build a prediction function"
   ]
  },
  {
   "cell_type": "code",
   "execution_count": 0,
   "metadata": {
    "colab": {
     "autoexec": {
      "startup": false,
      "wait_interval": 0
     }
    },
    "colab_type": "code",
    "collapsed": true,
    "id": "ulVF4IHE2oXk"
   },
   "outputs": [],
   "source": [
    "def decode_sentence(input_sequence):\n",
    "    \n",
    "    #Get the encoder state values\n",
    "    encoder_output =  encoder_model.predict(input_sequence)\n",
    "    decoder_initial_states_value = encoder_output[1:]    \n",
    "    encoded_seqs = encoder_output[0]\n",
    "       \n",
    "    \n",
    "    #decoder_initial_states_value = [encoder_last_h, encoder_last_c]\n",
    "    \n",
    "    #Build a sequence with '<start>' - starting sequence for Decoder\n",
    "    target_seq = np.zeros((1,1))    \n",
    "    target_seq[0][0] = decoder_t.word_index['<start>']\n",
    "    \n",
    "    #flag to check if prediction should be stopped\n",
    "    stop_loop = False\n",
    "    \n",
    "    #Initialize predicted sentence\n",
    "    predicted_sentence = ''\n",
    "    \n",
    "    #start the loop\n",
    "    while not stop_loop:\n",
    "        \n",
    "        predicted_outputs, f_h, f_c, b_h, b_c, a = decoder_model.predict([target_seq] +\n",
    "                                                           decoder_initial_states_value +\n",
    "                                                           [encoded_seqs])\n",
    "        \n",
    "        #Get the predicted output with highest probability\n",
    "        predicted_output = np.argmax(predicted_outputs[0,-1,:])\n",
    "        \n",
    "        #Get the predicted word from predicter integer\n",
    "        if (predicted_output == 0):\n",
    "            predicted_word = ' '\n",
    "        else:\n",
    "            predicted_word = int_to_word_decoder[predicted_output]\n",
    "        \n",
    "        #Check if prediction should stop\n",
    "        if(predicted_word == '<end>' or len(predicted_sentence) > max_decoder_seq_length):\n",
    "            \n",
    "            stop_loop = True\n",
    "            continue\n",
    "                    \n",
    "        #Updated predicted sentence\n",
    "        if (len(predicted_sentence) == 0):\n",
    "            predicted_sentence = predicted_word\n",
    "        else:\n",
    "            predicted_sentence = predicted_sentence + ' ' + predicted_word\n",
    "            \n",
    "        #Update target_seq to be the predicted word index\n",
    "        target_seq[0][0] = predicted_output\n",
    "        \n",
    "        #Update initial states value for decoder\n",
    "        decoder_initial_states_value = [f_h,f_c,b_h,b_c]\n",
    "        \n",
    "        #Uncomment this line to print Alignment Matrix\n",
    "        #print (a)\n",
    "        \n",
    "    \n",
    "    return predicted_sentence"
   ]
  },
  {
   "cell_type": "markdown",
   "metadata": {
    "colab_type": "text",
    "id": "eIcTe2V32oXl"
   },
   "source": [
    "Call Prediction function above"
   ]
  },
  {
   "cell_type": "code",
   "execution_count": 0,
   "metadata": {
    "colab": {
     "autoexec": {
      "startup": false,
      "wait_interval": 0
     }
    },
    "colab_type": "code",
    "collapsed": true,
    "id": "vYC_2syR2oXm"
   },
   "outputs": [],
   "source": [
    "#Get a random sentence\n",
    "start_num = np.random.randint(0, high=len(encoder_text) - 10)\n",
    "print(start_num)\n",
    "\n",
    "for i in range(start_num, start_num + 10):\n",
    "    input_seq = encoder_input_data[i : i+1]    \n",
    "    predicted_sentence = decode_sentence(input_seq)\n",
    "    print('--------')\n",
    "    print ('Input sentence: ', encoder_text[i])\n",
    "    print ('Predicted sentence: ', predicted_sentence )"
   ]
  },
  {
   "cell_type": "markdown",
   "metadata": {
    "colab_type": "text",
    "id": "KgZeXBIwy-NB"
   },
   "source": [
    "## 6. Save Prediction models and tokenizers "
   ]
  },
  {
   "cell_type": "code",
   "execution_count": 0,
   "metadata": {
    "colab": {
     "autoexec": {
      "startup": false,
      "wait_interval": 0
     }
    },
    "colab_type": "code",
    "collapsed": true,
    "id": "4cPhW3Sfy8h6"
   },
   "outputs": [],
   "source": [
    "#Save encoder and decoder model for Prediction\n",
    "encoder_model.compile(optimizer='adam', loss='mse')\n",
    "decoder_model.compile(optimizer='adam', loss='categorical_crossentropy')\n",
    "encoder_model.save('drive/AI-ML/models/seq2seq_encoder_eng_hin.hd5')\n",
    "decoder_model.save('drive/AI-ML/models/seq2seq_decoder_eng_hin.hd5')"
   ]
  },
  {
   "cell_type": "code",
   "execution_count": 0,
   "metadata": {
    "colab": {
     "autoexec": {
      "startup": false,
      "wait_interval": 0
     }
    },
    "colab_type": "code",
    "collapsed": true,
    "id": "05_mrMj2zTH9"
   },
   "outputs": [],
   "source": [
    "#Save tokenizers\n",
    "import pickle\n",
    "\n",
    "pickle.dump(encoder_t,open('drive/AI-ML/models/encoder_tokenizer_eng','wb'))\n",
    "pickle.dump(decoder_t,open('drive/AI-ML/models/decoder_tokenizer_hin','wb'))"
   ]
  },
  {
   "cell_type": "code",
   "execution_count": 0,
   "metadata": {
    "colab": {
     "autoexec": {
      "startup": false,
      "wait_interval": 0
     }
    },
    "colab_type": "code",
    "collapsed": true,
    "id": "jikCiiKLSc0A"
   },
   "outputs": [],
   "source": [
    "encoder_input_data[429]"
   ]
  }
 ],
 "metadata": {
  "accelerator": "GPU",
  "colab": {
   "default_view": {},
   "name": "3b. Seq2Seq LSTM Model with Attention.ipynb",
   "private_outputs": true,
   "provenance": [],
   "version": "0.3.2",
   "views": {}
  },
  "kernelspec": {
   "display_name": "Python 3",
   "language": "python",
   "name": "python3"
  },
  "language_info": {
   "codemirror_mode": {
    "name": "ipython",
    "version": 3
   },
   "file_extension": ".py",
   "mimetype": "text/x-python",
   "name": "python",
   "nbconvert_exporter": "python",
   "pygments_lexer": "ipython3",
   "version": "3.5.4"
  }
 },
 "nbformat": 4,
 "nbformat_minor": 1
}
