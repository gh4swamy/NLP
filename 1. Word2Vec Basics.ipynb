{
 "cells": [
  {
   "cell_type": "code",
   "execution_count": 3,
   "metadata": {},
   "outputs": [],
   "source": [
    "import keras\n",
    "from keras.preprocessing.text import Tokenizer, text_to_word_sequence, one_hot\n",
    "from keras.preprocessing.sequence import pad_sequences"
   ]
  },
  {
   "cell_type": "code",
   "execution_count": 4,
   "metadata": {},
   "outputs": [],
   "source": [
    "text = ['this is a NLP starting day', 'today i will complete NLP basics', 'NLP has a very importatnt topic']"
   ]
  },
  {
   "cell_type": "code",
   "execution_count": 14,
   "metadata": {},
   "outputs": [],
   "source": [
    "tk = Tokenizer()\n",
    "tk.fit_on_texts(text)"
   ]
  },
  {
   "cell_type": "code",
   "execution_count": 15,
   "metadata": {},
   "outputs": [
    {
     "data": {
      "text/plain": [
       "[[3, 4, 2, 1, 5, 6], [7, 8, 9, 10, 1, 11], [1, 12, 2, 13, 14, 15]]"
      ]
     },
     "execution_count": 15,
     "metadata": {},
     "output_type": "execute_result"
    }
   ],
   "source": [
    "seq = tk.texts_to_sequences(text)\n",
    "seq"
   ]
  },
  {
   "cell_type": "code",
   "execution_count": 17,
   "metadata": {},
   "outputs": [
    {
     "data": {
      "text/plain": [
       "array([[0., 1., 1., 1., 1., 1., 1., 0., 0., 0., 0., 0., 0., 0., 0., 0.],\n",
       "       [0., 1., 0., 0., 0., 0., 0., 1., 1., 1., 1., 1., 0., 0., 0., 0.],\n",
       "       [0., 1., 1., 0., 0., 0., 0., 0., 0., 0., 0., 0., 1., 1., 1., 1.]])"
      ]
     },
     "execution_count": 17,
     "metadata": {},
     "output_type": "execute_result"
    }
   ],
   "source": [
    "mat = tk.sequences_to_matrix(seq)\n",
    "mat"
   ]
  },
  {
   "cell_type": "code",
   "execution_count": 21,
   "metadata": {},
   "outputs": [
    {
     "data": {
      "text/plain": [
       "array([[0. , 0.6, 0.7, 0.9, 0.9, 0.9, 0.9, 0. , 0. , 0. , 0. , 0. , 0. ,\n",
       "        0. , 0. , 0. ],\n",
       "       [0. , 0.6, 0. , 0. , 0. , 0. , 0. , 0.9, 0.9, 0.9, 0.9, 0.9, 0. ,\n",
       "        0. , 0. , 0. ],\n",
       "       [0. , 0.6, 0.7, 0. , 0. , 0. , 0. , 0. , 0. , 0. , 0. , 0. , 0.9,\n",
       "        0.9, 0.9, 0.9]])"
      ]
     },
     "execution_count": 21,
     "metadata": {},
     "output_type": "execute_result"
    }
   ],
   "source": [
    "import numpy as np\n",
    "mat_tf = tk.sequences_to_matrix(seq, mode= 'tfidf')\n",
    "np.round(mat_tf, 1)"
   ]
  },
  {
   "cell_type": "code",
   "execution_count": 23,
   "metadata": {},
   "outputs": [
    {
     "data": {
      "text/plain": [
       "OrderedDict([('this', 1),\n",
       "             ('is', 1),\n",
       "             ('a', 2),\n",
       "             ('nlp', 3),\n",
       "             ('starting', 1),\n",
       "             ('day', 1),\n",
       "             ('today', 1),\n",
       "             ('i', 1),\n",
       "             ('will', 1),\n",
       "             ('complete', 1),\n",
       "             ('basics', 1),\n",
       "             ('has', 1),\n",
       "             ('very', 1),\n",
       "             ('importatnt', 1),\n",
       "             ('topic', 1)])"
      ]
     },
     "execution_count": 23,
     "metadata": {},
     "output_type": "execute_result"
    }
   ],
   "source": [
    "tk.word_counts"
   ]
  },
  {
   "cell_type": "code",
   "execution_count": 25,
   "metadata": {},
   "outputs": [
    {
     "data": {
      "text/plain": [
       "{'nlp': 1,\n",
       " 'a': 2,\n",
       " 'this': 3,\n",
       " 'is': 4,\n",
       " 'starting': 5,\n",
       " 'day': 6,\n",
       " 'today': 7,\n",
       " 'i': 8,\n",
       " 'will': 9,\n",
       " 'complete': 10,\n",
       " 'basics': 11,\n",
       " 'has': 12,\n",
       " 'very': 13,\n",
       " 'importatnt': 14,\n",
       " 'topic': 15}"
      ]
     },
     "execution_count": 25,
     "metadata": {},
     "output_type": "execute_result"
    }
   ],
   "source": [
    "tk.word_index"
   ]
  },
  {
   "cell_type": "code",
   "execution_count": 28,
   "metadata": {},
   "outputs": [
    {
     "data": {
      "text/plain": [
       "3"
      ]
     },
     "execution_count": 28,
     "metadata": {},
     "output_type": "execute_result"
    }
   ],
   "source": [
    "tk.document_count"
   ]
  },
  {
   "cell_type": "code",
   "execution_count": 29,
   "metadata": {},
   "outputs": [
    {
     "data": {
      "text/plain": [
       "defaultdict(int,\n",
       "            {'nlp': 3,\n",
       "             'starting': 1,\n",
       "             'this': 1,\n",
       "             'is': 1,\n",
       "             'day': 1,\n",
       "             'a': 2,\n",
       "             'basics': 1,\n",
       "             'will': 1,\n",
       "             'today': 1,\n",
       "             'i': 1,\n",
       "             'complete': 1,\n",
       "             'has': 1,\n",
       "             'importatnt': 1,\n",
       "             'topic': 1,\n",
       "             'very': 1})"
      ]
     },
     "execution_count": 29,
     "metadata": {},
     "output_type": "execute_result"
    }
   ],
   "source": [
    "tk.word_docs"
   ]
  },
  {
   "cell_type": "code",
   "execution_count": 31,
   "metadata": {},
   "outputs": [
    {
     "data": {
      "text/plain": [
       "array([[ 3,  4,  2,  1,  5,  6],\n",
       "       [ 7,  8,  9, 10,  1, 11],\n",
       "       [ 1, 12,  2, 13, 14, 15]], dtype=int32)"
      ]
     },
     "execution_count": 31,
     "metadata": {},
     "output_type": "execute_result"
    }
   ],
   "source": [
    "pad_seq = pad_sequences(seq, padding = 'post')\n",
    "pad_seq"
   ]
  },
  {
   "cell_type": "code",
   "execution_count": null,
   "metadata": {},
   "outputs": [],
   "source": []
  },
  {
   "cell_type": "code",
   "execution_count": null,
   "metadata": {},
   "outputs": [],
   "source": []
  },
  {
   "cell_type": "code",
   "execution_count": null,
   "metadata": {},
   "outputs": [],
   "source": []
  },
  {
   "cell_type": "code",
   "execution_count": null,
   "metadata": {},
   "outputs": [],
   "source": []
  },
  {
   "cell_type": "code",
   "execution_count": null,
   "metadata": {},
   "outputs": [],
   "source": []
  }
 ],
 "metadata": {
  "kernelspec": {
   "display_name": "Python 3",
   "language": "python",
   "name": "python3"
  },
  "language_info": {
   "codemirror_mode": {
    "name": "ipython",
    "version": 3
   },
   "file_extension": ".py",
   "mimetype": "text/x-python",
   "name": "python",
   "nbconvert_exporter": "python",
   "pygments_lexer": "ipython3",
   "version": "3.6.5"
  }
 },
 "nbformat": 4,
 "nbformat_minor": 2
}
